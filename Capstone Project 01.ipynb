{
 "cells": [
  {
   "cell_type": "code",
   "execution_count": 117,
   "id": "42ad37bd",
   "metadata": {},
   "outputs": [],
   "source": [
    "import pandas as pd\n",
    "import seaborn as sns\n",
    "import matplotlib.pyplot as plt\n",
    "import numpy as np\n",
    "from datetime import datetime"
   ]
  },
  {
   "cell_type": "code",
   "execution_count": 118,
   "id": "836b7dec",
   "metadata": {},
   "outputs": [],
   "source": [
    "df= pd.read_csv('Subscription Data Capstone Project.csv')"
   ]
  },
  {
   "cell_type": "code",
   "execution_count": 119,
   "id": "bcfae4fb",
   "metadata": {},
   "outputs": [
    {
     "data": {
      "text/html": [
       "<div>\n",
       "<style scoped>\n",
       "    .dataframe tbody tr th:only-of-type {\n",
       "        vertical-align: middle;\n",
       "    }\n",
       "\n",
       "    .dataframe tbody tr th {\n",
       "        vertical-align: top;\n",
       "    }\n",
       "\n",
       "    .dataframe thead th {\n",
       "        text-align: right;\n",
       "    }\n",
       "</style>\n",
       "<table border=\"1\" class=\"dataframe\">\n",
       "  <thead>\n",
       "    <tr style=\"text-align: right;\">\n",
       "      <th></th>\n",
       "      <th>User_ID</th>\n",
       "      <th>Subscription_Type</th>\n",
       "      <th>Join_Date</th>\n",
       "      <th>Churn_Flag</th>\n",
       "      <th>Age</th>\n",
       "      <th>Gender</th>\n",
       "      <th>Monthly_Viewing_Hours</th>\n",
       "      <th>Genres_Watched</th>\n",
       "      <th>Support_Tickets</th>\n",
       "      <th>Discount_Used</th>\n",
       "      <th>Payment_Method</th>\n",
       "      <th>Auto_Renew_Enabled</th>\n",
       "      <th>Last_Login_Date</th>\n",
       "      <th>Number_of_Devices</th>\n",
       "    </tr>\n",
       "  </thead>\n",
       "  <tbody>\n",
       "    <tr>\n",
       "      <th>0</th>\n",
       "      <td>1917ba4a-9eb2-4737-adf6-52c68429e60d</td>\n",
       "      <td>Standard</td>\n",
       "      <td>28/08/2024</td>\n",
       "      <td>1</td>\n",
       "      <td>64</td>\n",
       "      <td>Other</td>\n",
       "      <td>56.3</td>\n",
       "      <td>7</td>\n",
       "      <td>2</td>\n",
       "      <td>No</td>\n",
       "      <td>Credit Card</td>\n",
       "      <td>Yes</td>\n",
       "      <td>30/04/2025</td>\n",
       "      <td>3</td>\n",
       "    </tr>\n",
       "    <tr>\n",
       "      <th>1</th>\n",
       "      <td>a7dddc1b-317d-4261-8f21-997c9188561f</td>\n",
       "      <td>Premium</td>\n",
       "      <td>25/09/2023</td>\n",
       "      <td>0</td>\n",
       "      <td>29</td>\n",
       "      <td>M</td>\n",
       "      <td>31.3</td>\n",
       "      <td>4</td>\n",
       "      <td>1</td>\n",
       "      <td>Yes</td>\n",
       "      <td>Mobile Money</td>\n",
       "      <td>No</td>\n",
       "      <td>11/4/2025</td>\n",
       "      <td>3</td>\n",
       "    </tr>\n",
       "    <tr>\n",
       "      <th>2</th>\n",
       "      <td>99ba7fe2-b0f5-43ec-9501-93260544723d</td>\n",
       "      <td>Free Trial</td>\n",
       "      <td>3/11/2024</td>\n",
       "      <td>0</td>\n",
       "      <td>33</td>\n",
       "      <td>F</td>\n",
       "      <td>47.2</td>\n",
       "      <td>6</td>\n",
       "      <td>1</td>\n",
       "      <td>No</td>\n",
       "      <td>Credit Card</td>\n",
       "      <td>No</td>\n",
       "      <td>13/04/2025</td>\n",
       "      <td>1</td>\n",
       "    </tr>\n",
       "    <tr>\n",
       "      <th>3</th>\n",
       "      <td>e43ac1e7-6d1e-4c72-a71a-76ef31a6ced6</td>\n",
       "      <td>Standard</td>\n",
       "      <td>19/08/2024</td>\n",
       "      <td>0</td>\n",
       "      <td>41</td>\n",
       "      <td>F</td>\n",
       "      <td>81.0</td>\n",
       "      <td>4</td>\n",
       "      <td>0</td>\n",
       "      <td>Yes</td>\n",
       "      <td>Mobile Money</td>\n",
       "      <td>Yes</td>\n",
       "      <td>21/04/2025</td>\n",
       "      <td>4</td>\n",
       "    </tr>\n",
       "    <tr>\n",
       "      <th>4</th>\n",
       "      <td>d55d7e3f-b956-4423-b9da-3fc1eef1c0ef</td>\n",
       "      <td>Standard</td>\n",
       "      <td>4/5/2025</td>\n",
       "      <td>0</td>\n",
       "      <td>36</td>\n",
       "      <td>Other</td>\n",
       "      <td>45.7</td>\n",
       "      <td>6</td>\n",
       "      <td>3</td>\n",
       "      <td>No</td>\n",
       "      <td>PayPal</td>\n",
       "      <td>No</td>\n",
       "      <td>3/5/2025</td>\n",
       "      <td>5</td>\n",
       "    </tr>\n",
       "  </tbody>\n",
       "</table>\n",
       "</div>"
      ],
      "text/plain": [
       "                                User_ID Subscription_Type   Join_Date  \\\n",
       "0  1917ba4a-9eb2-4737-adf6-52c68429e60d          Standard  28/08/2024   \n",
       "1  a7dddc1b-317d-4261-8f21-997c9188561f           Premium  25/09/2023   \n",
       "2  99ba7fe2-b0f5-43ec-9501-93260544723d        Free Trial   3/11/2024   \n",
       "3  e43ac1e7-6d1e-4c72-a71a-76ef31a6ced6          Standard  19/08/2024   \n",
       "4  d55d7e3f-b956-4423-b9da-3fc1eef1c0ef          Standard    4/5/2025   \n",
       "\n",
       "   Churn_Flag  Age Gender  Monthly_Viewing_Hours  Genres_Watched  \\\n",
       "0           1   64  Other                   56.3               7   \n",
       "1           0   29      M                   31.3               4   \n",
       "2           0   33      F                   47.2               6   \n",
       "3           0   41      F                   81.0               4   \n",
       "4           0   36  Other                   45.7               6   \n",
       "\n",
       "   Support_Tickets Discount_Used Payment_Method Auto_Renew_Enabled  \\\n",
       "0                2            No    Credit Card                Yes   \n",
       "1                1           Yes   Mobile Money                 No   \n",
       "2                1            No    Credit Card                 No   \n",
       "3                0           Yes   Mobile Money                Yes   \n",
       "4                3            No         PayPal                 No   \n",
       "\n",
       "  Last_Login_Date  Number_of_Devices  \n",
       "0      30/04/2025                  3  \n",
       "1       11/4/2025                  3  \n",
       "2      13/04/2025                  1  \n",
       "3      21/04/2025                  4  \n",
       "4        3/5/2025                  5  "
      ]
     },
     "execution_count": 119,
     "metadata": {},
     "output_type": "execute_result"
    }
   ],
   "source": [
    "df.head()"
   ]
  },
  {
   "cell_type": "code",
   "execution_count": 120,
   "id": "f22c54da",
   "metadata": {},
   "outputs": [
    {
     "data": {
      "text/plain": [
       "(1000, 14)"
      ]
     },
     "execution_count": 120,
     "metadata": {},
     "output_type": "execute_result"
    }
   ],
   "source": [
    "df.shape"
   ]
  },
  {
   "cell_type": "code",
   "execution_count": 121,
   "id": "fc9b58cd",
   "metadata": {},
   "outputs": [
    {
     "data": {
      "text/plain": [
       "<bound method NDFrame.describe of                                   User_ID Subscription_Type   Join_Date  \\\n",
       "0    1917ba4a-9eb2-4737-adf6-52c68429e60d          Standard  28/08/2024   \n",
       "1    a7dddc1b-317d-4261-8f21-997c9188561f           Premium  25/09/2023   \n",
       "2    99ba7fe2-b0f5-43ec-9501-93260544723d        Free Trial   3/11/2024   \n",
       "3    e43ac1e7-6d1e-4c72-a71a-76ef31a6ced6          Standard  19/08/2024   \n",
       "4    d55d7e3f-b956-4423-b9da-3fc1eef1c0ef          Standard    4/5/2025   \n",
       "..                                    ...               ...         ...   \n",
       "995  c7b4db1d-92c6-4f79-8468-951d2ef9869e        Free Trial  30/12/2023   \n",
       "996  ee55c59d-de20-4093-bd5f-813483467238        Free Trial  22/12/2024   \n",
       "997  58cab762-2160-4e34-b4c2-7bb888bc7e8d           Premium    7/4/2025   \n",
       "998  bae2ad8e-07d0-4246-8d35-aabb6b901603           Premium  14/08/2023   \n",
       "999  9d6e108e-ad19-4728-869b-9e2472e4cd6a          Standard    5/4/2024   \n",
       "\n",
       "     Churn_Flag  Age Gender  Monthly_Viewing_Hours  Genres_Watched  \\\n",
       "0             1   64  Other                   56.3               7   \n",
       "1             0   29      M                   31.3               4   \n",
       "2             0   33      F                   47.2               6   \n",
       "3             0   41      F                   81.0               4   \n",
       "4             0   36  Other                   45.7               6   \n",
       "..          ...  ...    ...                    ...             ...   \n",
       "995           0   30      M                   42.1               3   \n",
       "996           1   66      M                   22.2               2   \n",
       "997           0   19      M                   32.5               7   \n",
       "998           0   22      F                   65.5               5   \n",
       "999           0   61      M                   38.9               4   \n",
       "\n",
       "     Support_Tickets Discount_Used Payment_Method Auto_Renew_Enabled  \\\n",
       "0                  2            No    Credit Card                Yes   \n",
       "1                  1           Yes   Mobile Money                 No   \n",
       "2                  1            No    Credit Card                 No   \n",
       "3                  0           Yes   Mobile Money                Yes   \n",
       "4                  3            No         PayPal                 No   \n",
       "..               ...           ...            ...                ...   \n",
       "995                0            No         PayPal                 No   \n",
       "996                0           Yes   Mobile Money                Yes   \n",
       "997                2           Yes         PayPal                Yes   \n",
       "998                2            No   Mobile Money                 No   \n",
       "999                1            No         PayPal                 No   \n",
       "\n",
       "    Last_Login_Date  Number_of_Devices  \n",
       "0        30/04/2025                  3  \n",
       "1         11/4/2025                  3  \n",
       "2        13/04/2025                  1  \n",
       "3        21/04/2025                  4  \n",
       "4          3/5/2025                  5  \n",
       "..              ...                ...  \n",
       "995      20/04/2025                  2  \n",
       "996        8/4/2025                  1  \n",
       "997      26/04/2025                  5  \n",
       "998      17/04/2025                  3  \n",
       "999      15/04/2025                  2  \n",
       "\n",
       "[1000 rows x 14 columns]>"
      ]
     },
     "execution_count": 121,
     "metadata": {},
     "output_type": "execute_result"
    }
   ],
   "source": [
    "df.describe"
   ]
  },
  {
   "cell_type": "code",
   "execution_count": 122,
   "id": "fcf8bd59",
   "metadata": {},
   "outputs": [
    {
     "data": {
      "text/plain": [
       "0      False\n",
       "1      False\n",
       "2      False\n",
       "3      False\n",
       "4      False\n",
       "       ...  \n",
       "995    False\n",
       "996    False\n",
       "997    False\n",
       "998    False\n",
       "999    False\n",
       "Length: 1000, dtype: bool"
      ]
     },
     "execution_count": 122,
     "metadata": {},
     "output_type": "execute_result"
    }
   ],
   "source": [
    "df.duplicated()"
   ]
  },
  {
   "cell_type": "code",
   "execution_count": 123,
   "id": "5934c992",
   "metadata": {},
   "outputs": [
    {
     "data": {
      "text/plain": [
       "User_ID                  0\n",
       "Subscription_Type        0\n",
       "Join_Date                0\n",
       "Churn_Flag               0\n",
       "Age                      0\n",
       "Gender                   0\n",
       "Monthly_Viewing_Hours    0\n",
       "Genres_Watched           0\n",
       "Support_Tickets          0\n",
       "Discount_Used            0\n",
       "Payment_Method           0\n",
       "Auto_Renew_Enabled       0\n",
       "Last_Login_Date          0\n",
       "Number_of_Devices        0\n",
       "dtype: int64"
      ]
     },
     "execution_count": 123,
     "metadata": {},
     "output_type": "execute_result"
    }
   ],
   "source": [
    "df.isnull().sum()"
   ]
  },
  {
   "cell_type": "code",
   "execution_count": 124,
   "id": "97762102",
   "metadata": {},
   "outputs": [
    {
     "name": "stderr",
     "output_type": "stream",
     "text": [
      "C:\\Users\\USER\\AppData\\Local\\Temp\\ipykernel_22712\\1181146078.py:3: UserWarning: Parsing dates in %d/%m/%Y format when dayfirst=False (the default) was specified. Pass `dayfirst=True` or specify a format to silence this warning.\n",
      "  df['Join_Date'] = pd.to_datetime(df['Join_Date'])\n",
      "C:\\Users\\USER\\AppData\\Local\\Temp\\ipykernel_22712\\1181146078.py:5: UserWarning: Parsing dates in %d/%m/%Y format when dayfirst=False (the default) was specified. Pass `dayfirst=True` or specify a format to silence this warning.\n",
      "  df['Last_Login_Date'] = pd.to_datetime(df['Last_Login_Date'])\n"
     ]
    }
   ],
   "source": [
    "# Convert the Join_Date and Last_Login_Date columns from string to date datatypes\n",
    "\n",
    "df['Join_Date'] = pd.to_datetime(df['Join_Date'])\n",
    "\n",
    "df['Last_Login_Date'] = pd.to_datetime(df['Last_Login_Date'])"
   ]
  },
  {
   "cell_type": "code",
   "execution_count": 125,
   "id": "18add4a1",
   "metadata": {},
   "outputs": [
    {
     "name": "stdout",
     "output_type": "stream",
     "text": [
      "<class 'pandas.core.frame.DataFrame'>\n",
      "RangeIndex: 1000 entries, 0 to 999\n",
      "Data columns (total 14 columns):\n",
      " #   Column                 Non-Null Count  Dtype         \n",
      "---  ------                 --------------  -----         \n",
      " 0   User_ID                1000 non-null   object        \n",
      " 1   Subscription_Type      1000 non-null   object        \n",
      " 2   Join_Date              1000 non-null   datetime64[ns]\n",
      " 3   Churn_Flag             1000 non-null   int64         \n",
      " 4   Age                    1000 non-null   int64         \n",
      " 5   Gender                 1000 non-null   object        \n",
      " 6   Monthly_Viewing_Hours  1000 non-null   float64       \n",
      " 7   Genres_Watched         1000 non-null   int64         \n",
      " 8   Support_Tickets        1000 non-null   int64         \n",
      " 9   Discount_Used          1000 non-null   object        \n",
      " 10  Payment_Method         1000 non-null   object        \n",
      " 11  Auto_Renew_Enabled     1000 non-null   object        \n",
      " 12  Last_Login_Date        1000 non-null   datetime64[ns]\n",
      " 13  Number_of_Devices      1000 non-null   int64         \n",
      "dtypes: datetime64[ns](2), float64(1), int64(5), object(6)\n",
      "memory usage: 109.5+ KB\n"
     ]
    }
   ],
   "source": [
    "df.info()"
   ]
  },
  {
   "cell_type": "code",
   "execution_count": 126,
   "id": "70c17c15",
   "metadata": {},
   "outputs": [],
   "source": [
    "#Get today's date and create a new column name (Analysis_Date) in the dataframe\n",
    "\n",
    "today_date = pd.Timestamp.today().normalize()\n",
    "today_date\n",
    "df['Analysis_Date'] = today_date"
   ]
  },
  {
   "cell_type": "code",
   "execution_count": 127,
   "id": "eef87b31",
   "metadata": {},
   "outputs": [
    {
     "data": {
      "text/html": [
       "<div>\n",
       "<style scoped>\n",
       "    .dataframe tbody tr th:only-of-type {\n",
       "        vertical-align: middle;\n",
       "    }\n",
       "\n",
       "    .dataframe tbody tr th {\n",
       "        vertical-align: top;\n",
       "    }\n",
       "\n",
       "    .dataframe thead th {\n",
       "        text-align: right;\n",
       "    }\n",
       "</style>\n",
       "<table border=\"1\" class=\"dataframe\">\n",
       "  <thead>\n",
       "    <tr style=\"text-align: right;\">\n",
       "      <th></th>\n",
       "      <th>User_ID</th>\n",
       "      <th>Subscription_Type</th>\n",
       "      <th>Join_Date</th>\n",
       "      <th>Churn_Flag</th>\n",
       "      <th>Age</th>\n",
       "      <th>Gender</th>\n",
       "      <th>Monthly_Viewing_Hours</th>\n",
       "      <th>Genres_Watched</th>\n",
       "      <th>Support_Tickets</th>\n",
       "      <th>Discount_Used</th>\n",
       "      <th>Payment_Method</th>\n",
       "      <th>Auto_Renew_Enabled</th>\n",
       "      <th>Last_Login_Date</th>\n",
       "      <th>Number_of_Devices</th>\n",
       "      <th>Analysis_Date</th>\n",
       "    </tr>\n",
       "  </thead>\n",
       "  <tbody>\n",
       "    <tr>\n",
       "      <th>0</th>\n",
       "      <td>1917ba4a-9eb2-4737-adf6-52c68429e60d</td>\n",
       "      <td>Standard</td>\n",
       "      <td>2024-08-28</td>\n",
       "      <td>1</td>\n",
       "      <td>64</td>\n",
       "      <td>Other</td>\n",
       "      <td>56.3</td>\n",
       "      <td>7</td>\n",
       "      <td>2</td>\n",
       "      <td>No</td>\n",
       "      <td>Credit Card</td>\n",
       "      <td>Yes</td>\n",
       "      <td>2025-04-30</td>\n",
       "      <td>3</td>\n",
       "      <td>2025-06-03</td>\n",
       "    </tr>\n",
       "    <tr>\n",
       "      <th>1</th>\n",
       "      <td>a7dddc1b-317d-4261-8f21-997c9188561f</td>\n",
       "      <td>Premium</td>\n",
       "      <td>2023-09-25</td>\n",
       "      <td>0</td>\n",
       "      <td>29</td>\n",
       "      <td>M</td>\n",
       "      <td>31.3</td>\n",
       "      <td>4</td>\n",
       "      <td>1</td>\n",
       "      <td>Yes</td>\n",
       "      <td>Mobile Money</td>\n",
       "      <td>No</td>\n",
       "      <td>2025-04-11</td>\n",
       "      <td>3</td>\n",
       "      <td>2025-06-03</td>\n",
       "    </tr>\n",
       "    <tr>\n",
       "      <th>2</th>\n",
       "      <td>99ba7fe2-b0f5-43ec-9501-93260544723d</td>\n",
       "      <td>Free Trial</td>\n",
       "      <td>2024-11-03</td>\n",
       "      <td>0</td>\n",
       "      <td>33</td>\n",
       "      <td>F</td>\n",
       "      <td>47.2</td>\n",
       "      <td>6</td>\n",
       "      <td>1</td>\n",
       "      <td>No</td>\n",
       "      <td>Credit Card</td>\n",
       "      <td>No</td>\n",
       "      <td>2025-04-13</td>\n",
       "      <td>1</td>\n",
       "      <td>2025-06-03</td>\n",
       "    </tr>\n",
       "    <tr>\n",
       "      <th>3</th>\n",
       "      <td>e43ac1e7-6d1e-4c72-a71a-76ef31a6ced6</td>\n",
       "      <td>Standard</td>\n",
       "      <td>2024-08-19</td>\n",
       "      <td>0</td>\n",
       "      <td>41</td>\n",
       "      <td>F</td>\n",
       "      <td>81.0</td>\n",
       "      <td>4</td>\n",
       "      <td>0</td>\n",
       "      <td>Yes</td>\n",
       "      <td>Mobile Money</td>\n",
       "      <td>Yes</td>\n",
       "      <td>2025-04-21</td>\n",
       "      <td>4</td>\n",
       "      <td>2025-06-03</td>\n",
       "    </tr>\n",
       "    <tr>\n",
       "      <th>4</th>\n",
       "      <td>d55d7e3f-b956-4423-b9da-3fc1eef1c0ef</td>\n",
       "      <td>Standard</td>\n",
       "      <td>2025-05-04</td>\n",
       "      <td>0</td>\n",
       "      <td>36</td>\n",
       "      <td>Other</td>\n",
       "      <td>45.7</td>\n",
       "      <td>6</td>\n",
       "      <td>3</td>\n",
       "      <td>No</td>\n",
       "      <td>PayPal</td>\n",
       "      <td>No</td>\n",
       "      <td>2025-05-03</td>\n",
       "      <td>5</td>\n",
       "      <td>2025-06-03</td>\n",
       "    </tr>\n",
       "  </tbody>\n",
       "</table>\n",
       "</div>"
      ],
      "text/plain": [
       "                                User_ID Subscription_Type  Join_Date  \\\n",
       "0  1917ba4a-9eb2-4737-adf6-52c68429e60d          Standard 2024-08-28   \n",
       "1  a7dddc1b-317d-4261-8f21-997c9188561f           Premium 2023-09-25   \n",
       "2  99ba7fe2-b0f5-43ec-9501-93260544723d        Free Trial 2024-11-03   \n",
       "3  e43ac1e7-6d1e-4c72-a71a-76ef31a6ced6          Standard 2024-08-19   \n",
       "4  d55d7e3f-b956-4423-b9da-3fc1eef1c0ef          Standard 2025-05-04   \n",
       "\n",
       "   Churn_Flag  Age Gender  Monthly_Viewing_Hours  Genres_Watched  \\\n",
       "0           1   64  Other                   56.3               7   \n",
       "1           0   29      M                   31.3               4   \n",
       "2           0   33      F                   47.2               6   \n",
       "3           0   41      F                   81.0               4   \n",
       "4           0   36  Other                   45.7               6   \n",
       "\n",
       "   Support_Tickets Discount_Used Payment_Method Auto_Renew_Enabled  \\\n",
       "0                2            No    Credit Card                Yes   \n",
       "1                1           Yes   Mobile Money                 No   \n",
       "2                1            No    Credit Card                 No   \n",
       "3                0           Yes   Mobile Money                Yes   \n",
       "4                3            No         PayPal                 No   \n",
       "\n",
       "  Last_Login_Date  Number_of_Devices Analysis_Date  \n",
       "0      2025-04-30                  3    2025-06-03  \n",
       "1      2025-04-11                  3    2025-06-03  \n",
       "2      2025-04-13                  1    2025-06-03  \n",
       "3      2025-04-21                  4    2025-06-03  \n",
       "4      2025-05-03                  5    2025-06-03  "
      ]
     },
     "execution_count": 127,
     "metadata": {},
     "output_type": "execute_result"
    }
   ],
   "source": [
    "df.head()"
   ]
  },
  {
   "cell_type": "code",
   "execution_count": 128,
   "id": "e6141867",
   "metadata": {},
   "outputs": [],
   "source": [
    "df['Tenure_Days'] = (pd.Timestamp.today() - df['Join_Date']).dt.days #Create a new column Tenure Days\n",
    "df['Days_Since_Last_Login'] = (pd.Timestamp.today() - df['Last_Login_Date']).dt.days\n",
    "df['Discount_Used'] = df['Discount_Used'].map({'Yes': 1, 'No': 0})\n",
    "df['Auto_Renew_Enabled'] = df['Auto_Renew_Enabled'].map({'Yes': 1, 'No': 0})"
   ]
  },
  {
   "cell_type": "code",
   "execution_count": 129,
   "id": "bc7cf2da",
   "metadata": {},
   "outputs": [],
   "source": [
    "df=df.drop(columns=['Join_Date','Last_Login_Date'])"
   ]
  },
  {
   "cell_type": "code",
   "execution_count": 130,
   "id": "a5a8281f",
   "metadata": {},
   "outputs": [
    {
     "data": {
      "text/html": [
       "<div>\n",
       "<style scoped>\n",
       "    .dataframe tbody tr th:only-of-type {\n",
       "        vertical-align: middle;\n",
       "    }\n",
       "\n",
       "    .dataframe tbody tr th {\n",
       "        vertical-align: top;\n",
       "    }\n",
       "\n",
       "    .dataframe thead th {\n",
       "        text-align: right;\n",
       "    }\n",
       "</style>\n",
       "<table border=\"1\" class=\"dataframe\">\n",
       "  <thead>\n",
       "    <tr style=\"text-align: right;\">\n",
       "      <th></th>\n",
       "      <th>User_ID</th>\n",
       "      <th>Subscription_Type</th>\n",
       "      <th>Churn_Flag</th>\n",
       "      <th>Age</th>\n",
       "      <th>Gender</th>\n",
       "      <th>Monthly_Viewing_Hours</th>\n",
       "      <th>Genres_Watched</th>\n",
       "      <th>Support_Tickets</th>\n",
       "      <th>Discount_Used</th>\n",
       "      <th>Payment_Method</th>\n",
       "      <th>Auto_Renew_Enabled</th>\n",
       "      <th>Number_of_Devices</th>\n",
       "      <th>Analysis_Date</th>\n",
       "      <th>Tenure_Days</th>\n",
       "      <th>Days_Since_Last_Login</th>\n",
       "    </tr>\n",
       "  </thead>\n",
       "  <tbody>\n",
       "    <tr>\n",
       "      <th>0</th>\n",
       "      <td>1917ba4a-9eb2-4737-adf6-52c68429e60d</td>\n",
       "      <td>Standard</td>\n",
       "      <td>1</td>\n",
       "      <td>64</td>\n",
       "      <td>Other</td>\n",
       "      <td>56.3</td>\n",
       "      <td>7</td>\n",
       "      <td>2</td>\n",
       "      <td>0</td>\n",
       "      <td>Credit Card</td>\n",
       "      <td>1</td>\n",
       "      <td>3</td>\n",
       "      <td>2025-06-03</td>\n",
       "      <td>279</td>\n",
       "      <td>34</td>\n",
       "    </tr>\n",
       "    <tr>\n",
       "      <th>1</th>\n",
       "      <td>a7dddc1b-317d-4261-8f21-997c9188561f</td>\n",
       "      <td>Premium</td>\n",
       "      <td>0</td>\n",
       "      <td>29</td>\n",
       "      <td>M</td>\n",
       "      <td>31.3</td>\n",
       "      <td>4</td>\n",
       "      <td>1</td>\n",
       "      <td>1</td>\n",
       "      <td>Mobile Money</td>\n",
       "      <td>0</td>\n",
       "      <td>3</td>\n",
       "      <td>2025-06-03</td>\n",
       "      <td>617</td>\n",
       "      <td>53</td>\n",
       "    </tr>\n",
       "    <tr>\n",
       "      <th>2</th>\n",
       "      <td>99ba7fe2-b0f5-43ec-9501-93260544723d</td>\n",
       "      <td>Free Trial</td>\n",
       "      <td>0</td>\n",
       "      <td>33</td>\n",
       "      <td>F</td>\n",
       "      <td>47.2</td>\n",
       "      <td>6</td>\n",
       "      <td>1</td>\n",
       "      <td>0</td>\n",
       "      <td>Credit Card</td>\n",
       "      <td>0</td>\n",
       "      <td>1</td>\n",
       "      <td>2025-06-03</td>\n",
       "      <td>212</td>\n",
       "      <td>51</td>\n",
       "    </tr>\n",
       "    <tr>\n",
       "      <th>3</th>\n",
       "      <td>e43ac1e7-6d1e-4c72-a71a-76ef31a6ced6</td>\n",
       "      <td>Standard</td>\n",
       "      <td>0</td>\n",
       "      <td>41</td>\n",
       "      <td>F</td>\n",
       "      <td>81.0</td>\n",
       "      <td>4</td>\n",
       "      <td>0</td>\n",
       "      <td>1</td>\n",
       "      <td>Mobile Money</td>\n",
       "      <td>1</td>\n",
       "      <td>4</td>\n",
       "      <td>2025-06-03</td>\n",
       "      <td>288</td>\n",
       "      <td>43</td>\n",
       "    </tr>\n",
       "    <tr>\n",
       "      <th>4</th>\n",
       "      <td>d55d7e3f-b956-4423-b9da-3fc1eef1c0ef</td>\n",
       "      <td>Standard</td>\n",
       "      <td>0</td>\n",
       "      <td>36</td>\n",
       "      <td>Other</td>\n",
       "      <td>45.7</td>\n",
       "      <td>6</td>\n",
       "      <td>3</td>\n",
       "      <td>0</td>\n",
       "      <td>PayPal</td>\n",
       "      <td>0</td>\n",
       "      <td>5</td>\n",
       "      <td>2025-06-03</td>\n",
       "      <td>30</td>\n",
       "      <td>31</td>\n",
       "    </tr>\n",
       "  </tbody>\n",
       "</table>\n",
       "</div>"
      ],
      "text/plain": [
       "                                User_ID Subscription_Type  Churn_Flag  Age  \\\n",
       "0  1917ba4a-9eb2-4737-adf6-52c68429e60d          Standard           1   64   \n",
       "1  a7dddc1b-317d-4261-8f21-997c9188561f           Premium           0   29   \n",
       "2  99ba7fe2-b0f5-43ec-9501-93260544723d        Free Trial           0   33   \n",
       "3  e43ac1e7-6d1e-4c72-a71a-76ef31a6ced6          Standard           0   41   \n",
       "4  d55d7e3f-b956-4423-b9da-3fc1eef1c0ef          Standard           0   36   \n",
       "\n",
       "  Gender  Monthly_Viewing_Hours  Genres_Watched  Support_Tickets  \\\n",
       "0  Other                   56.3               7                2   \n",
       "1      M                   31.3               4                1   \n",
       "2      F                   47.2               6                1   \n",
       "3      F                   81.0               4                0   \n",
       "4  Other                   45.7               6                3   \n",
       "\n",
       "   Discount_Used Payment_Method  Auto_Renew_Enabled  Number_of_Devices  \\\n",
       "0              0    Credit Card                   1                  3   \n",
       "1              1   Mobile Money                   0                  3   \n",
       "2              0    Credit Card                   0                  1   \n",
       "3              1   Mobile Money                   1                  4   \n",
       "4              0         PayPal                   0                  5   \n",
       "\n",
       "  Analysis_Date  Tenure_Days  Days_Since_Last_Login  \n",
       "0    2025-06-03          279                     34  \n",
       "1    2025-06-03          617                     53  \n",
       "2    2025-06-03          212                     51  \n",
       "3    2025-06-03          288                     43  \n",
       "4    2025-06-03           30                     31  "
      ]
     },
     "execution_count": 130,
     "metadata": {},
     "output_type": "execute_result"
    }
   ],
   "source": [
    "df.head()"
   ]
  },
  {
   "cell_type": "code",
   "execution_count": 131,
   "id": "d7e18785",
   "metadata": {},
   "outputs": [
    {
     "name": "stdout",
     "output_type": "stream",
     "text": [
      "Estimated_Login_Frequency\n"
     ]
    }
   ],
   "source": [
    "df['Estimated_Login_Frequency'] = df['Tenure_Days'] - df['Days_Since_Last_Login']\n",
    "print('Estimated_Login_Frequency')"
   ]
  },
  {
   "cell_type": "markdown",
   "id": "7b72f91c",
   "metadata": {},
   "source": [
    "1.\tWhat is the overall churn rate?"
   ]
  },
  {
   "cell_type": "code",
   "execution_count": 132,
   "id": "cdeb4daf",
   "metadata": {},
   "outputs": [
    {
     "name": "stdout",
     "output_type": "stream",
     "text": [
      "47.4\n"
     ]
    }
   ],
   "source": [
    "#The overall churn rate is 47.4%\n",
    "\n",
    "Total_customers= len(df)  # Count total customers\n",
    "churned_customers = df['Churn_Flag'].sum() #Count churned customers (where churn_flag = 1)\n",
    "Churn_rate= (churned_customers/Total_customers)*100 # Calculate churn rate as percentage\n",
    "print(Churn_rate)"
   ]
  },
  {
   "cell_type": "markdown",
   "id": "03d3e1e0",
   "metadata": {},
   "source": [
    "2.\tHow does churn vary by subscription type"
   ]
  },
  {
   "cell_type": "code",
   "execution_count": 133,
   "id": "c4f7708b",
   "metadata": {},
   "outputs": [
    {
     "name": "stdout",
     "output_type": "stream",
     "text": [
      "Subscription_Type\n",
      "Premium       48.571429\n",
      "Standard      47.413793\n",
      "Free Trial    46.899225\n",
      "Basic         46.521739\n",
      "Name: Churn_Flag, dtype: float64\n"
     ]
    }
   ],
   "source": [
    "# The Premium plan had the highest average churn rate of 48.57% while the Basic plan had the lowest at 46.52%\n",
    "\n",
    "churn_by_subscription= df.groupby('Subscription_Type')['Churn_Flag'].mean().sort_values(ascending=False)*100\n",
    "print(churn_by_subscription)"
   ]
  },
  {
   "cell_type": "markdown",
   "id": "917e2d62",
   "metadata": {},
   "source": [
    "3.\tIs there a relationship between age and churn?"
   ]
  },
  {
   "cell_type": "code",
   "execution_count": 134,
   "id": "3d4505bf",
   "metadata": {},
   "outputs": [
    {
     "name": "stdout",
     "output_type": "stream",
     "text": [
      "Age_Category\n",
      "Youth     48.739496\n",
      "Adult     47.311828\n",
      "Senior    46.153846\n",
      "Child           NaN\n",
      "Name: Churn_Flag, dtype: float64\n"
     ]
    },
    {
     "name": "stderr",
     "output_type": "stream",
     "text": [
      "C:\\Users\\USER\\AppData\\Local\\Temp\\ipykernel_22712\\3018694300.py:7: FutureWarning: The default of observed=False is deprecated and will be changed to True in a future version of pandas. Pass observed=False to retain current behavior or observed=True to adopt the future default and silence this warning.\n",
      "  churn_by_age_category = (df.groupby('Age_Category')['Churn_Flag'].mean().sort_values(ascending=False)*100) #Find the average churn rate per age category\n"
     ]
    },
    {
     "data": {
      "text/plain": [
       "<Axes: title={'center': 'Age Distribution by Churn Status'}, xlabel='Age_Category'>"
      ]
     },
     "execution_count": 134,
     "metadata": {},
     "output_type": "execute_result"
    },
    {
     "data": {
      "image/png": "[encoded data removed]",
      "text/plain": [
       "<Figure size 640x480 with 1 Axes>"
      ]
     },
     "metadata": {},
     "output_type": "display_data"
    }
   ],
   "source": [
    "\n",
    "# There is a high churn rate among the youth 17-35years (48.74%), while the seniors 50-70years had the lowest churn rate (46.15%)\n",
    "\n",
    "bins = [0, 17, 35, 50, 70] \n",
    "\n",
    "labels = ['Child', 'Youth', 'Adult', 'Senior'] #To group data into discrete categories\n",
    "df['Age_Category'] = pd.cut(df['Age'], bins=bins, labels=labels, include_lowest=True) #Create a new column for age category\n",
    "churn_by_age_category = (df.groupby('Age_Category')['Churn_Flag'].mean().sort_values(ascending=False)*100) #Find the average churn rate per age category\n",
    "print(churn_by_age_category)\n",
    "churn_by_age_category.plot.bar(title= 'Age Distribution by Churn Status', color ='orange') #Plotting on bar graph"
   ]
  },
  {
   "cell_type": "markdown",
   "id": "a65b268f",
   "metadata": {},
   "source": [
    "4.\tDo support tickets correlate with higher churn?"
   ]
  },
  {
   "cell_type": "code",
   "execution_count": 135,
   "id": "41071c4f",
   "metadata": {},
   "outputs": [
    {
     "data": {
      "text/plain": [
       "Churn_Flag\n",
       "0    526\n",
       "1    474\n",
       "Name: Support_Tickets, dtype: int64"
      ]
     },
     "execution_count": 135,
     "metadata": {},
     "output_type": "execute_result"
    }
   ],
   "source": [
    "df.groupby('Churn_Flag')['Support_Tickets'].count()\n"
   ]
  },
  {
   "cell_type": "code",
   "execution_count": 136,
   "id": "9938ccf4",
   "metadata": {},
   "outputs": [
    {
     "name": "stdout",
     "output_type": "stream",
     "text": [
      "Support_Ticket_Category\n",
      "Low         48.0\n",
      "Moderate    43.0\n",
      "High        33.0\n",
      "Name: Churn_Flag, dtype: float64\n"
     ]
    },
    {
     "name": "stderr",
     "output_type": "stream",
     "text": [
      "C:\\Users\\USER\\AppData\\Local\\Temp\\ipykernel_22712\\2471804672.py:6: FutureWarning: The default of observed=False is deprecated and will be changed to True in a future version of pandas. Pass observed=False to retain current behavior or observed=True to adopt the future default and silence this warning.\n",
      "  churn_by_support_tickets= (df.groupby('Support_Ticket_Category')['Churn_Flag'].mean() * 100).round(0) #Find the support tickets with a higher average churn rate\n"
     ]
    },
    {
     "data": {
      "text/plain": [
       "<Axes: title={'center': 'Churn Rate by Support Ticket Category'}, xlabel='Support_Ticket_Category'>"
      ]
     },
     "execution_count": 136,
     "metadata": {},
     "output_type": "execute_result"
    },
    {
     "data": {
      "image/png": "[encoded data removed]",
      "text/plain": [
       "<Figure size 640x480 with 1 Axes>"
      ]
     },
     "metadata": {},
     "output_type": "display_data"
    }
   ],
   "source": [
    "#Customers with low number of support tickets had the highest average churn rate (47.8%) while those with a high number of support tickets had the lowest(33.3%)\n",
    "\n",
    "bins = [0, 2, 4, 6] \n",
    "labels = ['Low', 'Moderate', 'High'] #To group data into discrete categories\n",
    "df['Support_Ticket_Category'] = pd.cut(df['Support_Tickets'], bins=bins, labels=labels, include_lowest=True) #Create a new column for support tickets category\n",
    "churn_by_support_tickets= (df.groupby('Support_Ticket_Category')['Churn_Flag'].mean() * 100).round(0) #Find the support tickets with a higher average churn rate\n",
    "print(churn_by_support_tickets)\n",
    "churn_by_support_tickets.plot.bar(x='Support_Ticket_Category', title= 'Churn Rate by Support Ticket Category', color='orange') #Plotting on bar graph"
   ]
  },
  {
   "cell_type": "markdown",
   "id": "d8f296a9",
   "metadata": {},
   "source": [
    "5.\tHow does viewing behavior differ between churned and retained customers?"
   ]
  },
  {
   "cell_type": "code",
   "execution_count": 137,
   "id": "0270ee12",
   "metadata": {},
   "outputs": [
    {
     "name": "stdout",
     "output_type": "stream",
     "text": [
      "Churn_Flag\n",
      "0    40.26\n",
      "1    39.43\n",
      "Name: Monthly_Viewing_Hours, dtype: float64\n"
     ]
    }
   ],
   "source": [
    " # The retained customers spent more viewing hours 40.26 compared to the churned customers 39.43\n",
    " \n",
    "Churned_Monthly_Viewing_Hours = (df.groupby('Churn_Flag')['Monthly_Viewing_Hours'].mean()).round(2)\n",
    "print(Churned_Monthly_Viewing_Hours)"
   ]
  },
  {
   "cell_type": "markdown",
   "id": "f86a7248",
   "metadata": {},
   "source": [
    "6.\tIs there a \"critical period\" after sign-up when churn risk is highest?"
   ]
  },
  {
   "cell_type": "code",
   "execution_count": null,
   "id": "17038876",
   "metadata": {},
   "outputs": [
    {
     "name": "stdout",
     "output_type": "stream",
     "text": [
      "381.05274261603375\n",
      "394.787072243346\n",
      "Tenure_Months\n"
     ]
    }
   ],
   "source": [
    "#Average tenure\n",
    "avg_churned = df[df['Churn_Flag'] == 1]['Tenure_Days'].mean()\n",
    "avg_retained = df[df['Churn_Flag'] == 0]['Tenure_Days'].mean()\n",
    "print(avg_churned)\n",
    "print(avg_retained)\n",
    "\n",
    "df['Tenure_Months'] = (df['Tenure_Days'] / 30).round(1)\n",
    "print('Tenure_Months')"
   ]
  },
  {
   "cell_type": "markdown",
   "id": "2a2a6791",
   "metadata": {},
   "source": [
    "7.\tDoes payment method affect churn probability?"
   ]
  },
  {
   "cell_type": "code",
   "execution_count": null,
   "id": "378c524c",
   "metadata": {},
   "outputs": [
    {
     "name": "stdout",
     "output_type": "stream",
     "text": [
      "Payment_Method\n",
      "PayPal          48.036254\n",
      "Mobile Money    47.747748\n",
      "Credit Card     46.428571\n",
      "Name: Churn_Flag, dtype: float64\n"
     ]
    }
   ],
   "source": [
    "# Calculate churn rate by payment method\n",
    "#Paypal had the highest churn rate of 48.04% while credit card had the lowest at 46.43%\n",
    "\n",
    "churn_by_payment = (df.groupby('Payment_Method')['Churn_Flag'].mean().sort_values(ascending=False) * 100)\n",
    "print(churn_by_payment)\n"
   ]
  },
  {
   "cell_type": "markdown",
   "id": "a1648103",
   "metadata": {},
   "source": [
    "8.\tHow does the use of discounts at sign-up relate to long-term retention?"
   ]
  },
  {
   "cell_type": "code",
   "execution_count": 161,
   "id": "86a44258",
   "metadata": {},
   "outputs": [
    {
     "name": "stdout",
     "output_type": "stream",
     "text": [
      "Discount_Used\n",
      "0    50.304260\n",
      "1    44.575937\n",
      "Name: Churn_Flag, dtype: float64\n"
     ]
    },
    {
     "data": {
      "text/plain": [
       "<Axes: title={'center': 'Churn Rate by Discount'}, xlabel='Discount_Used'>"
      ]
     },
     "execution_count": 161,
     "metadata": {},
     "output_type": "execute_result"
    },
    {
     "data": {
      "image/png": "[encoded data removed]",
      "text/plain": [
       "<Figure size 640x480 with 1 Axes>"
      ]
     },
     "metadata": {},
     "output_type": "display_data"
    }
   ],
   "source": [
    "# Churn rate by discount usage\n",
    "churn_by_discount = (df.groupby('Discount_Used')['Churn_Flag'].mean() * 100)\n",
    "print(churn_by_discount)\n",
    "churn_by_discount.plot.bar(title= 'Churn Rate by Discount', color='orange')"
   ]
  }
 ],
 "metadata": {
  "kernelspec": {
   "display_name": "Python 3",
   "language": "python",
   "name": "python3"
  },
  "language_info": {
   "codemirror_mode": {
    "name": "ipython",
    "version": 3
   },
   "file_extension": ".py",
   "mimetype": "text/x-python",
   "name": "python",
   "nbconvert_exporter": "python",
   "pygments_lexer": "ipython3",
   "version": "3.12.10"
  }
 },
 "nbformat": 4,
 "nbformat_minor": 5
}
