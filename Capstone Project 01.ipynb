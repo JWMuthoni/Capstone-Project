{
 "cells": [
  {
   "cell_type": "code",
   "execution_count": 116,
   "id": "42ad37bd",
   "metadata": {},
   "outputs": [],
   "source": [
    "import pandas as pd\n",
    "import seaborn as sns\n",
    "import matplotlib.pyplot as plt\n",
    "import numpy as np\n",
    "from datetime import datetime"
   ]
  },
  {
   "cell_type": "code",
   "execution_count": 117,
   "id": "836b7dec",
   "metadata": {},
   "outputs": [],
   "source": [
    "df= pd.read_csv('Subscription Data Capstone Project.csv')"
   ]
  },
  {
   "cell_type": "code",
   "execution_count": 118,
   "id": "bcfae4fb",
   "metadata": {},
   "outputs": [
    {
     "data": {
      "text/html": [
       "<div>\n",
       "<style scoped>\n",
       "    .dataframe tbody tr th:only-of-type {\n",
       "        vertical-align: middle;\n",
       "    }\n",
       "\n",
       "    .dataframe tbody tr th {\n",
       "        vertical-align: top;\n",
       "    }\n",
       "\n",
       "    .dataframe thead th {\n",
       "        text-align: right;\n",
       "    }\n",
       "</style>\n",
       "<table border=\"1\" class=\"dataframe\">\n",
       "  <thead>\n",
       "    <tr style=\"text-align: right;\">\n",
       "      <th></th>\n",
       "      <th>User_ID</th>\n",
       "      <th>Subscription_Type</th>\n",
       "      <th>Join_Date</th>\n",
       "      <th>Churn_Flag</th>\n",
       "      <th>Age</th>\n",
       "      <th>Gender</th>\n",
       "      <th>Monthly_Viewing_Hours</th>\n",
       "      <th>Genres_Watched</th>\n",
       "      <th>Support_Tickets</th>\n",
       "      <th>Discount_Used</th>\n",
       "      <th>Payment_Method</th>\n",
       "      <th>Auto_Renew_Enabled</th>\n",
       "      <th>Last_Login_Date</th>\n",
       "      <th>Number_of_Devices</th>\n",
       "    </tr>\n",
       "  </thead>\n",
       "  <tbody>\n",
       "    <tr>\n",
       "      <th>0</th>\n",
       "      <td>1917ba4a-9eb2-4737-adf6-52c68429e60d</td>\n",
       "      <td>Standard</td>\n",
       "      <td>28/08/2024</td>\n",
       "      <td>1</td>\n",
       "      <td>64</td>\n",
       "      <td>Other</td>\n",
       "      <td>56.3</td>\n",
       "      <td>7</td>\n",
       "      <td>2</td>\n",
       "      <td>No</td>\n",
       "      <td>Credit Card</td>\n",
       "      <td>Yes</td>\n",
       "      <td>30/04/2025</td>\n",
       "      <td>3</td>\n",
       "    </tr>\n",
       "    <tr>\n",
       "      <th>1</th>\n",
       "      <td>a7dddc1b-317d-4261-8f21-997c9188561f</td>\n",
       "      <td>Premium</td>\n",
       "      <td>25/09/2023</td>\n",
       "      <td>0</td>\n",
       "      <td>29</td>\n",
       "      <td>M</td>\n",
       "      <td>31.3</td>\n",
       "      <td>4</td>\n",
       "      <td>1</td>\n",
       "      <td>Yes</td>\n",
       "      <td>Mobile Money</td>\n",
       "      <td>No</td>\n",
       "      <td>11/4/2025</td>\n",
       "      <td>3</td>\n",
       "    </tr>\n",
       "    <tr>\n",
       "      <th>2</th>\n",
       "      <td>99ba7fe2-b0f5-43ec-9501-93260544723d</td>\n",
       "      <td>Free Trial</td>\n",
       "      <td>3/11/2024</td>\n",
       "      <td>0</td>\n",
       "      <td>33</td>\n",
       "      <td>F</td>\n",
       "      <td>47.2</td>\n",
       "      <td>6</td>\n",
       "      <td>1</td>\n",
       "      <td>No</td>\n",
       "      <td>Credit Card</td>\n",
       "      <td>No</td>\n",
       "      <td>13/04/2025</td>\n",
       "      <td>1</td>\n",
       "    </tr>\n",
       "    <tr>\n",
       "      <th>3</th>\n",
       "      <td>e43ac1e7-6d1e-4c72-a71a-76ef31a6ced6</td>\n",
       "      <td>Standard</td>\n",
       "      <td>19/08/2024</td>\n",
       "      <td>0</td>\n",
       "      <td>41</td>\n",
       "      <td>F</td>\n",
       "      <td>81.0</td>\n",
       "      <td>4</td>\n",
       "      <td>0</td>\n",
       "      <td>Yes</td>\n",
       "      <td>Mobile Money</td>\n",
       "      <td>Yes</td>\n",
       "      <td>21/04/2025</td>\n",
       "      <td>4</td>\n",
       "    </tr>\n",
       "    <tr>\n",
       "      <th>4</th>\n",
       "      <td>d55d7e3f-b956-4423-b9da-3fc1eef1c0ef</td>\n",
       "      <td>Standard</td>\n",
       "      <td>4/5/2025</td>\n",
       "      <td>0</td>\n",
       "      <td>36</td>\n",
       "      <td>Other</td>\n",
       "      <td>45.7</td>\n",
       "      <td>6</td>\n",
       "      <td>3</td>\n",
       "      <td>No</td>\n",
       "      <td>PayPal</td>\n",
       "      <td>No</td>\n",
       "      <td>3/5/2025</td>\n",
       "      <td>5</td>\n",
       "    </tr>\n",
       "  </tbody>\n",
       "</table>\n",
       "</div>"
      ],
      "text/plain": [
       "                                User_ID Subscription_Type   Join_Date  \\\n",
       "0  1917ba4a-9eb2-4737-adf6-52c68429e60d          Standard  28/08/2024   \n",
       "1  a7dddc1b-317d-4261-8f21-997c9188561f           Premium  25/09/2023   \n",
       "2  99ba7fe2-b0f5-43ec-9501-93260544723d        Free Trial   3/11/2024   \n",
       "3  e43ac1e7-6d1e-4c72-a71a-76ef31a6ced6          Standard  19/08/2024   \n",
       "4  d55d7e3f-b956-4423-b9da-3fc1eef1c0ef          Standard    4/5/2025   \n",
       "\n",
       "   Churn_Flag  Age Gender  Monthly_Viewing_Hours  Genres_Watched  \\\n",
       "0           1   64  Other                   56.3               7   \n",
       "1           0   29      M                   31.3               4   \n",
       "2           0   33      F                   47.2               6   \n",
       "3           0   41      F                   81.0               4   \n",
       "4           0   36  Other                   45.7               6   \n",
       "\n",
       "   Support_Tickets Discount_Used Payment_Method Auto_Renew_Enabled  \\\n",
       "0                2            No    Credit Card                Yes   \n",
       "1                1           Yes   Mobile Money                 No   \n",
       "2                1            No    Credit Card                 No   \n",
       "3                0           Yes   Mobile Money                Yes   \n",
       "4                3            No         PayPal                 No   \n",
       "\n",
       "  Last_Login_Date  Number_of_Devices  \n",
       "0      30/04/2025                  3  \n",
       "1       11/4/2025                  3  \n",
       "2      13/04/2025                  1  \n",
       "3      21/04/2025                  4  \n",
       "4        3/5/2025                  5  "
      ]
     },
     "execution_count": 118,
     "metadata": {},
     "output_type": "execute_result"
    }
   ],
   "source": [
    "df.head()"
   ]
  },
  {
   "cell_type": "code",
   "execution_count": 119,
   "id": "f22c54da",
   "metadata": {},
   "outputs": [
    {
     "data": {
      "text/plain": [
       "(1000, 14)"
      ]
     },
     "execution_count": 119,
     "metadata": {},
     "output_type": "execute_result"
    }
   ],
   "source": [
    "df.shape"
   ]
  },
  {
   "cell_type": "code",
   "execution_count": 120,
   "id": "fc9b58cd",
   "metadata": {},
   "outputs": [
    {
     "data": {
      "text/plain": [
       "<bound method NDFrame.describe of                                   User_ID Subscription_Type   Join_Date  \\\n",
       "0    1917ba4a-9eb2-4737-adf6-52c68429e60d          Standard  28/08/2024   \n",
       "1    a7dddc1b-317d-4261-8f21-997c9188561f           Premium  25/09/2023   \n",
       "2    99ba7fe2-b0f5-43ec-9501-93260544723d        Free Trial   3/11/2024   \n",
       "3    e43ac1e7-6d1e-4c72-a71a-76ef31a6ced6          Standard  19/08/2024   \n",
       "4    d55d7e3f-b956-4423-b9da-3fc1eef1c0ef          Standard    4/5/2025   \n",
       "..                                    ...               ...         ...   \n",
       "995  c7b4db1d-92c6-4f79-8468-951d2ef9869e        Free Trial  30/12/2023   \n",
       "996  ee55c59d-de20-4093-bd5f-813483467238        Free Trial  22/12/2024   \n",
       "997  58cab762-2160-4e34-b4c2-7bb888bc7e8d           Premium    7/4/2025   \n",
       "998  bae2ad8e-07d0-4246-8d35-aabb6b901603           Premium  14/08/2023   \n",
       "999  9d6e108e-ad19-4728-869b-9e2472e4cd6a          Standard    5/4/2024   \n",
       "\n",
       "     Churn_Flag  Age Gender  Monthly_Viewing_Hours  Genres_Watched  \\\n",
       "0             1   64  Other                   56.3               7   \n",
       "1             0   29      M                   31.3               4   \n",
       "2             0   33      F                   47.2               6   \n",
       "3             0   41      F                   81.0               4   \n",
       "4             0   36  Other                   45.7               6   \n",
       "..          ...  ...    ...                    ...             ...   \n",
       "995           0   30      M                   42.1               3   \n",
       "996           1   66      M                   22.2               2   \n",
       "997           0   19      M                   32.5               7   \n",
       "998           0   22      F                   65.5               5   \n",
       "999           0   61      M                   38.9               4   \n",
       "\n",
       "     Support_Tickets Discount_Used Payment_Method Auto_Renew_Enabled  \\\n",
       "0                  2            No    Credit Card                Yes   \n",
       "1                  1           Yes   Mobile Money                 No   \n",
       "2                  1            No    Credit Card                 No   \n",
       "3                  0           Yes   Mobile Money                Yes   \n",
       "4                  3            No         PayPal                 No   \n",
       "..               ...           ...            ...                ...   \n",
       "995                0            No         PayPal                 No   \n",
       "996                0           Yes   Mobile Money                Yes   \n",
       "997                2           Yes         PayPal                Yes   \n",
       "998                2            No   Mobile Money                 No   \n",
       "999                1            No         PayPal                 No   \n",
       "\n",
       "    Last_Login_Date  Number_of_Devices  \n",
       "0        30/04/2025                  3  \n",
       "1         11/4/2025                  3  \n",
       "2        13/04/2025                  1  \n",
       "3        21/04/2025                  4  \n",
       "4          3/5/2025                  5  \n",
       "..              ...                ...  \n",
       "995      20/04/2025                  2  \n",
       "996        8/4/2025                  1  \n",
       "997      26/04/2025                  5  \n",
       "998      17/04/2025                  3  \n",
       "999      15/04/2025                  2  \n",
       "\n",
       "[1000 rows x 14 columns]>"
      ]
     },
     "execution_count": 120,
     "metadata": {},
     "output_type": "execute_result"
    }
   ],
   "source": [
    "df.describe"
   ]
  },
  {
   "cell_type": "code",
   "execution_count": 121,
   "id": "fcf8bd59",
   "metadata": {},
   "outputs": [
    {
     "data": {
      "text/plain": [
       "0      False\n",
       "1      False\n",
       "2      False\n",
       "3      False\n",
       "4      False\n",
       "       ...  \n",
       "995    False\n",
       "996    False\n",
       "997    False\n",
       "998    False\n",
       "999    False\n",
       "Length: 1000, dtype: bool"
      ]
     },
     "execution_count": 121,
     "metadata": {},
     "output_type": "execute_result"
    }
   ],
   "source": [
    "df.duplicated()"
   ]
  },
  {
   "cell_type": "code",
   "execution_count": 122,
   "id": "5934c992",
   "metadata": {},
   "outputs": [
    {
     "data": {
      "text/plain": [
       "User_ID                  0\n",
       "Subscription_Type        0\n",
       "Join_Date                0\n",
       "Churn_Flag               0\n",
       "Age                      0\n",
       "Gender                   0\n",
       "Monthly_Viewing_Hours    0\n",
       "Genres_Watched           0\n",
       "Support_Tickets          0\n",
       "Discount_Used            0\n",
       "Payment_Method           0\n",
       "Auto_Renew_Enabled       0\n",
       "Last_Login_Date          0\n",
       "Number_of_Devices        0\n",
       "dtype: int64"
      ]
     },
     "execution_count": 122,
     "metadata": {},
     "output_type": "execute_result"
    }
   ],
   "source": [
    "df.isnull().sum()"
   ]
  },
  {
   "cell_type": "code",
   "execution_count": 123,
   "id": "97762102",
   "metadata": {},
   "outputs": [
    {
     "name": "stderr",
     "output_type": "stream",
     "text": [
      "C:\\Users\\USER\\AppData\\Local\\Temp\\ipykernel_7228\\1181146078.py:3: UserWarning: Parsing dates in %d/%m/%Y format when dayfirst=False (the default) was specified. Pass `dayfirst=True` or specify a format to silence this warning.\n",
      "  df['Join_Date'] = pd.to_datetime(df['Join_Date'])\n",
      "C:\\Users\\USER\\AppData\\Local\\Temp\\ipykernel_7228\\1181146078.py:5: UserWarning: Parsing dates in %d/%m/%Y format when dayfirst=False (the default) was specified. Pass `dayfirst=True` or specify a format to silence this warning.\n",
      "  df['Last_Login_Date'] = pd.to_datetime(df['Last_Login_Date'])\n"
     ]
    }
   ],
   "source": [
    "# Convert the Join_Date and Last_Login_Date columns from string to date datatypes\n",
    "\n",
    "df['Join_Date'] = pd.to_datetime(df['Join_Date'])\n",
    "\n",
    "df['Last_Login_Date'] = pd.to_datetime(df['Last_Login_Date'])"
   ]
  },
  {
   "cell_type": "code",
   "execution_count": 124,
   "id": "eef87b31",
   "metadata": {},
   "outputs": [
    {
     "data": {
      "text/html": [
       "<div>\n",
       "<style scoped>\n",
       "    .dataframe tbody tr th:only-of-type {\n",
       "        vertical-align: middle;\n",
       "    }\n",
       "\n",
       "    .dataframe tbody tr th {\n",
       "        vertical-align: top;\n",
       "    }\n",
       "\n",
       "    .dataframe thead th {\n",
       "        text-align: right;\n",
       "    }\n",
       "</style>\n",
       "<table border=\"1\" class=\"dataframe\">\n",
       "  <thead>\n",
       "    <tr style=\"text-align: right;\">\n",
       "      <th></th>\n",
       "      <th>User_ID</th>\n",
       "      <th>Subscription_Type</th>\n",
       "      <th>Join_Date</th>\n",
       "      <th>Churn_Flag</th>\n",
       "      <th>Age</th>\n",
       "      <th>Gender</th>\n",
       "      <th>Monthly_Viewing_Hours</th>\n",
       "      <th>Genres_Watched</th>\n",
       "      <th>Support_Tickets</th>\n",
       "      <th>Discount_Used</th>\n",
       "      <th>Payment_Method</th>\n",
       "      <th>Auto_Renew_Enabled</th>\n",
       "      <th>Last_Login_Date</th>\n",
       "      <th>Number_of_Devices</th>\n",
       "    </tr>\n",
       "  </thead>\n",
       "  <tbody>\n",
       "    <tr>\n",
       "      <th>0</th>\n",
       "      <td>1917ba4a-9eb2-4737-adf6-52c68429e60d</td>\n",
       "      <td>Standard</td>\n",
       "      <td>2024-08-28</td>\n",
       "      <td>1</td>\n",
       "      <td>64</td>\n",
       "      <td>Other</td>\n",
       "      <td>56.3</td>\n",
       "      <td>7</td>\n",
       "      <td>2</td>\n",
       "      <td>No</td>\n",
       "      <td>Credit Card</td>\n",
       "      <td>Yes</td>\n",
       "      <td>2025-04-30</td>\n",
       "      <td>3</td>\n",
       "    </tr>\n",
       "    <tr>\n",
       "      <th>1</th>\n",
       "      <td>a7dddc1b-317d-4261-8f21-997c9188561f</td>\n",
       "      <td>Premium</td>\n",
       "      <td>2023-09-25</td>\n",
       "      <td>0</td>\n",
       "      <td>29</td>\n",
       "      <td>M</td>\n",
       "      <td>31.3</td>\n",
       "      <td>4</td>\n",
       "      <td>1</td>\n",
       "      <td>Yes</td>\n",
       "      <td>Mobile Money</td>\n",
       "      <td>No</td>\n",
       "      <td>2025-04-11</td>\n",
       "      <td>3</td>\n",
       "    </tr>\n",
       "    <tr>\n",
       "      <th>2</th>\n",
       "      <td>99ba7fe2-b0f5-43ec-9501-93260544723d</td>\n",
       "      <td>Free Trial</td>\n",
       "      <td>2024-11-03</td>\n",
       "      <td>0</td>\n",
       "      <td>33</td>\n",
       "      <td>F</td>\n",
       "      <td>47.2</td>\n",
       "      <td>6</td>\n",
       "      <td>1</td>\n",
       "      <td>No</td>\n",
       "      <td>Credit Card</td>\n",
       "      <td>No</td>\n",
       "      <td>2025-04-13</td>\n",
       "      <td>1</td>\n",
       "    </tr>\n",
       "    <tr>\n",
       "      <th>3</th>\n",
       "      <td>e43ac1e7-6d1e-4c72-a71a-76ef31a6ced6</td>\n",
       "      <td>Standard</td>\n",
       "      <td>2024-08-19</td>\n",
       "      <td>0</td>\n",
       "      <td>41</td>\n",
       "      <td>F</td>\n",
       "      <td>81.0</td>\n",
       "      <td>4</td>\n",
       "      <td>0</td>\n",
       "      <td>Yes</td>\n",
       "      <td>Mobile Money</td>\n",
       "      <td>Yes</td>\n",
       "      <td>2025-04-21</td>\n",
       "      <td>4</td>\n",
       "    </tr>\n",
       "    <tr>\n",
       "      <th>4</th>\n",
       "      <td>d55d7e3f-b956-4423-b9da-3fc1eef1c0ef</td>\n",
       "      <td>Standard</td>\n",
       "      <td>2025-05-04</td>\n",
       "      <td>0</td>\n",
       "      <td>36</td>\n",
       "      <td>Other</td>\n",
       "      <td>45.7</td>\n",
       "      <td>6</td>\n",
       "      <td>3</td>\n",
       "      <td>No</td>\n",
       "      <td>PayPal</td>\n",
       "      <td>No</td>\n",
       "      <td>2025-05-03</td>\n",
       "      <td>5</td>\n",
       "    </tr>\n",
       "  </tbody>\n",
       "</table>\n",
       "</div>"
      ],
      "text/plain": [
       "                                User_ID Subscription_Type  Join_Date  \\\n",
       "0  1917ba4a-9eb2-4737-adf6-52c68429e60d          Standard 2024-08-28   \n",
       "1  a7dddc1b-317d-4261-8f21-997c9188561f           Premium 2023-09-25   \n",
       "2  99ba7fe2-b0f5-43ec-9501-93260544723d        Free Trial 2024-11-03   \n",
       "3  e43ac1e7-6d1e-4c72-a71a-76ef31a6ced6          Standard 2024-08-19   \n",
       "4  d55d7e3f-b956-4423-b9da-3fc1eef1c0ef          Standard 2025-05-04   \n",
       "\n",
       "   Churn_Flag  Age Gender  Monthly_Viewing_Hours  Genres_Watched  \\\n",
       "0           1   64  Other                   56.3               7   \n",
       "1           0   29      M                   31.3               4   \n",
       "2           0   33      F                   47.2               6   \n",
       "3           0   41      F                   81.0               4   \n",
       "4           0   36  Other                   45.7               6   \n",
       "\n",
       "   Support_Tickets Discount_Used Payment_Method Auto_Renew_Enabled  \\\n",
       "0                2            No    Credit Card                Yes   \n",
       "1                1           Yes   Mobile Money                 No   \n",
       "2                1            No    Credit Card                 No   \n",
       "3                0           Yes   Mobile Money                Yes   \n",
       "4                3            No         PayPal                 No   \n",
       "\n",
       "  Last_Login_Date  Number_of_Devices  \n",
       "0      2025-04-30                  3  \n",
       "1      2025-04-11                  3  \n",
       "2      2025-04-13                  1  \n",
       "3      2025-04-21                  4  \n",
       "4      2025-05-03                  5  "
      ]
     },
     "execution_count": 124,
     "metadata": {},
     "output_type": "execute_result"
    }
   ],
   "source": [
    "df.head()"
   ]
  },
  {
   "cell_type": "code",
   "execution_count": 125,
   "id": "e6141867",
   "metadata": {},
   "outputs": [],
   "source": [
    "df['Tenure_Days'] = (pd.Timestamp.today() - df['Join_Date']).dt.days\n",
    "df['Days_Since_Last_Login'] = (pd.Timestamp.today() - df['Last_Login_Date']).dt.days\n",
    "df['Discount_Used'] = df['Discount_Used'].map({'Yes': 1, 'No': 0})\n",
    "df['Auto_Renew_Enabled'] = df['Auto_Renew_Enabled'].map({'Yes': 1, 'No': 0})"
   ]
  },
  {
   "cell_type": "code",
   "execution_count": 126,
   "id": "bc7cf2da",
   "metadata": {},
   "outputs": [],
   "source": [
    "df=df.drop(columns=['Join_Date','Last_Login_Date'])"
   ]
  },
  {
   "cell_type": "code",
   "execution_count": 127,
   "id": "a5a8281f",
   "metadata": {},
   "outputs": [
    {
     "data": {
      "text/html": [
       "<div>\n",
       "<style scoped>\n",
       "    .dataframe tbody tr th:only-of-type {\n",
       "        vertical-align: middle;\n",
       "    }\n",
       "\n",
       "    .dataframe tbody tr th {\n",
       "        vertical-align: top;\n",
       "    }\n",
       "\n",
       "    .dataframe thead th {\n",
       "        text-align: right;\n",
       "    }\n",
       "</style>\n",
       "<table border=\"1\" class=\"dataframe\">\n",
       "  <thead>\n",
       "    <tr style=\"text-align: right;\">\n",
       "      <th></th>\n",
       "      <th>User_ID</th>\n",
       "      <th>Subscription_Type</th>\n",
       "      <th>Churn_Flag</th>\n",
       "      <th>Age</th>\n",
       "      <th>Gender</th>\n",
       "      <th>Monthly_Viewing_Hours</th>\n",
       "      <th>Genres_Watched</th>\n",
       "      <th>Support_Tickets</th>\n",
       "      <th>Discount_Used</th>\n",
       "      <th>Payment_Method</th>\n",
       "      <th>Auto_Renew_Enabled</th>\n",
       "      <th>Number_of_Devices</th>\n",
       "      <th>Tenure_Days</th>\n",
       "      <th>Days_Since_Last_Login</th>\n",
       "    </tr>\n",
       "  </thead>\n",
       "  <tbody>\n",
       "    <tr>\n",
       "      <th>0</th>\n",
       "      <td>1917ba4a-9eb2-4737-adf6-52c68429e60d</td>\n",
       "      <td>Standard</td>\n",
       "      <td>1</td>\n",
       "      <td>64</td>\n",
       "      <td>Other</td>\n",
       "      <td>56.3</td>\n",
       "      <td>7</td>\n",
       "      <td>2</td>\n",
       "      <td>0</td>\n",
       "      <td>Credit Card</td>\n",
       "      <td>1</td>\n",
       "      <td>3</td>\n",
       "      <td>278</td>\n",
       "      <td>33</td>\n",
       "    </tr>\n",
       "    <tr>\n",
       "      <th>1</th>\n",
       "      <td>a7dddc1b-317d-4261-8f21-997c9188561f</td>\n",
       "      <td>Premium</td>\n",
       "      <td>0</td>\n",
       "      <td>29</td>\n",
       "      <td>M</td>\n",
       "      <td>31.3</td>\n",
       "      <td>4</td>\n",
       "      <td>1</td>\n",
       "      <td>1</td>\n",
       "      <td>Mobile Money</td>\n",
       "      <td>0</td>\n",
       "      <td>3</td>\n",
       "      <td>616</td>\n",
       "      <td>52</td>\n",
       "    </tr>\n",
       "    <tr>\n",
       "      <th>2</th>\n",
       "      <td>99ba7fe2-b0f5-43ec-9501-93260544723d</td>\n",
       "      <td>Free Trial</td>\n",
       "      <td>0</td>\n",
       "      <td>33</td>\n",
       "      <td>F</td>\n",
       "      <td>47.2</td>\n",
       "      <td>6</td>\n",
       "      <td>1</td>\n",
       "      <td>0</td>\n",
       "      <td>Credit Card</td>\n",
       "      <td>0</td>\n",
       "      <td>1</td>\n",
       "      <td>211</td>\n",
       "      <td>50</td>\n",
       "    </tr>\n",
       "    <tr>\n",
       "      <th>3</th>\n",
       "      <td>e43ac1e7-6d1e-4c72-a71a-76ef31a6ced6</td>\n",
       "      <td>Standard</td>\n",
       "      <td>0</td>\n",
       "      <td>41</td>\n",
       "      <td>F</td>\n",
       "      <td>81.0</td>\n",
       "      <td>4</td>\n",
       "      <td>0</td>\n",
       "      <td>1</td>\n",
       "      <td>Mobile Money</td>\n",
       "      <td>1</td>\n",
       "      <td>4</td>\n",
       "      <td>287</td>\n",
       "      <td>42</td>\n",
       "    </tr>\n",
       "    <tr>\n",
       "      <th>4</th>\n",
       "      <td>d55d7e3f-b956-4423-b9da-3fc1eef1c0ef</td>\n",
       "      <td>Standard</td>\n",
       "      <td>0</td>\n",
       "      <td>36</td>\n",
       "      <td>Other</td>\n",
       "      <td>45.7</td>\n",
       "      <td>6</td>\n",
       "      <td>3</td>\n",
       "      <td>0</td>\n",
       "      <td>PayPal</td>\n",
       "      <td>0</td>\n",
       "      <td>5</td>\n",
       "      <td>29</td>\n",
       "      <td>30</td>\n",
       "    </tr>\n",
       "  </tbody>\n",
       "</table>\n",
       "</div>"
      ],
      "text/plain": [
       "                                User_ID Subscription_Type  Churn_Flag  Age  \\\n",
       "0  1917ba4a-9eb2-4737-adf6-52c68429e60d          Standard           1   64   \n",
       "1  a7dddc1b-317d-4261-8f21-997c9188561f           Premium           0   29   \n",
       "2  99ba7fe2-b0f5-43ec-9501-93260544723d        Free Trial           0   33   \n",
       "3  e43ac1e7-6d1e-4c72-a71a-76ef31a6ced6          Standard           0   41   \n",
       "4  d55d7e3f-b956-4423-b9da-3fc1eef1c0ef          Standard           0   36   \n",
       "\n",
       "  Gender  Monthly_Viewing_Hours  Genres_Watched  Support_Tickets  \\\n",
       "0  Other                   56.3               7                2   \n",
       "1      M                   31.3               4                1   \n",
       "2      F                   47.2               6                1   \n",
       "3      F                   81.0               4                0   \n",
       "4  Other                   45.7               6                3   \n",
       "\n",
       "   Discount_Used Payment_Method  Auto_Renew_Enabled  Number_of_Devices  \\\n",
       "0              0    Credit Card                   1                  3   \n",
       "1              1   Mobile Money                   0                  3   \n",
       "2              0    Credit Card                   0                  1   \n",
       "3              1   Mobile Money                   1                  4   \n",
       "4              0         PayPal                   0                  5   \n",
       "\n",
       "   Tenure_Days  Days_Since_Last_Login  \n",
       "0          278                     33  \n",
       "1          616                     52  \n",
       "2          211                     50  \n",
       "3          287                     42  \n",
       "4           29                     30  "
      ]
     },
     "execution_count": 127,
     "metadata": {},
     "output_type": "execute_result"
    }
   ],
   "source": [
    "df.head()"
   ]
  },
  {
   "cell_type": "code",
   "execution_count": null,
   "id": "d7e18785",
   "metadata": {},
   "outputs": [
    {
     "name": "stdout",
     "output_type": "stream",
     "text": [
      "Estimated_Login_Frequency\n"
     ]
    }
   ],
   "source": [
    "df['Estimated_Login_Frequency'] = df['Tenure_Days'] - df['Days_Since_Last_Login']\n",
    "print('Estimated_Login_Frequency')"
   ]
  },
  {
   "cell_type": "markdown",
   "id": "7b72f91c",
   "metadata": {},
   "source": [
    "1.\tWhat is the overall churn rate?"
   ]
  },
  {
   "cell_type": "code",
   "execution_count": 128,
   "id": "cdeb4daf",
   "metadata": {},
   "outputs": [
    {
     "name": "stdout",
     "output_type": "stream",
     "text": [
      "1000\n"
     ]
    }
   ],
   "source": [
    " # Count total customers\n",
    "Total_customers= len(df)\n",
    "print(Total_customers)"
   ]
  },
  {
   "cell_type": "code",
   "execution_count": 129,
   "id": "36b29b8c",
   "metadata": {},
   "outputs": [
    {
     "name": "stdout",
     "output_type": "stream",
     "text": [
      "474\n"
     ]
    }
   ],
   "source": [
    "#Count churned customers (where churn_flag = 1)\n",
    "churned_customers = df['Churn_Flag'].sum()\n",
    "print(churned_customers)"
   ]
  },
  {
   "cell_type": "code",
   "execution_count": 130,
   "id": "83fdae42",
   "metadata": {},
   "outputs": [
    {
     "name": "stdout",
     "output_type": "stream",
     "text": [
      "0.474\n"
     ]
    }
   ],
   "source": [
    "Overall_churn_rate= (churned_customers/Total_customers)\n",
    "print(Overall_churn_rate)"
   ]
  },
  {
   "cell_type": "code",
   "execution_count": 131,
   "id": "49dd1d5f",
   "metadata": {},
   "outputs": [
    {
     "name": "stdout",
     "output_type": "stream",
     "text": [
      "47.4\n"
     ]
    }
   ],
   "source": [
    "# Calculate churn rate as percentage\n",
    "Churn_rate= (churned_customers/Total_customers)*100\n",
    "print(Churn_rate)"
   ]
  },
  {
   "cell_type": "code",
   "execution_count": 132,
   "id": "f5a9cb4b",
   "metadata": {},
   "outputs": [
    {
     "name": "stdout",
     "output_type": "stream",
     "text": [
      "47.4\n"
     ]
    }
   ],
   "source": [
    "Churn_rate= (Overall_churn_rate)* 100\n",
    "print(Churn_rate)"
   ]
  },
  {
   "cell_type": "markdown",
   "id": "03d3e1e0",
   "metadata": {},
   "source": [
    "2.\tHow does churn vary by subscription type"
   ]
  },
  {
   "cell_type": "code",
   "execution_count": 151,
   "id": "c4f7708b",
   "metadata": {},
   "outputs": [
    {
     "name": "stdout",
     "output_type": "stream",
     "text": [
      "Subscription_Type\n",
      "Premium       48.571429\n",
      "Standard      47.413793\n",
      "Free Trial    46.899225\n",
      "Basic         46.521739\n",
      "Name: Churn_Flag, dtype: float64\n"
     ]
    }
   ],
   "source": [
    "churn_by_subscription= df.groupby('Subscription_Type')['Churn_Flag'].mean().sort_values(ascending=False)*100\n",
    "print(churn_by_subscription)"
   ]
  },
  {
   "cell_type": "markdown",
   "id": "917e2d62",
   "metadata": {},
   "source": [
    "3.\tIs there a relationship between age and churn?"
   ]
  },
  {
   "cell_type": "code",
   "execution_count": 134,
   "id": "486a730a",
   "metadata": {},
   "outputs": [
    {
     "name": "stderr",
     "output_type": "stream",
     "text": [
      "C:\\Users\\USER\\AppData\\Local\\Temp\\ipykernel_7228\\2330307816.py:1: FutureWarning: \n",
      "\n",
      "Passing `palette` without assigning `hue` is deprecated and will be removed in v0.14.0. Assign the `x` variable to `hue` and set `legend=False` for the same effect.\n",
      "\n",
      "  sns.boxplot(data=df,x='Churn_Flag', y='Age', palette= 'pastel')\n"
     ]
    },
    {
     "data": {
      "image/png": "[encoded data removed]",
      "text/plain": [
       "<Figure size 640x480 with 1 Axes>"
      ]
     },
     "metadata": {},
     "output_type": "display_data"
    }
   ],
   "source": [
    "sns.boxplot(data=df,x='Churn_Flag', y='Age', palette= 'pastel')\n",
    "plt.title('Age Distribution by Churn Status')\n",
    "plt.show()"
   ]
  },
  {
   "cell_type": "markdown",
   "id": "a65b268f",
   "metadata": {},
   "source": [
    "4.\tDo support tickets correlate with higher churn?"
   ]
  },
  {
   "cell_type": "code",
   "execution_count": 148,
   "id": "41071c4f",
   "metadata": {},
   "outputs": [
    {
     "data": {
      "text/plain": [
       "Churn_Flag\n",
       "0    526\n",
       "1    474\n",
       "Name: Support_Tickets, dtype: int64"
      ]
     },
     "execution_count": 148,
     "metadata": {},
     "output_type": "execute_result"
    }
   ],
   "source": [
    "df.groupby('Churn_Flag')['Support_Tickets'].count()\n"
   ]
  },
  {
   "cell_type": "code",
   "execution_count": 136,
   "id": "a3c394e0",
   "metadata": {},
   "outputs": [
    {
     "name": "stderr",
     "output_type": "stream",
     "text": [
      "C:\\Users\\USER\\AppData\\Local\\Temp\\ipykernel_7228\\1247397378.py:1: FutureWarning: \n",
      "\n",
      "Passing `palette` without assigning `hue` is deprecated and will be removed in v0.14.0. Assign the `x` variable to `hue` and set `legend=False` for the same effect.\n",
      "\n",
      "  sns.boxplot(data=df,x='Churn_Flag', y='Support_Tickets', palette= 'pastel')\n"
     ]
    },
    {
     "data": {
      "image/png": "[encoded data removed]",
      "text/plain": [
       "<Figure size 640x480 with 1 Axes>"
      ]
     },
     "metadata": {},
     "output_type": "display_data"
    }
   ],
   "source": [
    "sns.boxplot(data=df,x='Churn_Flag', y='Support_Tickets', palette= 'pastel')\n",
    "plt.title('Support Tickets by Churn Status')\n",
    "plt.show()"
   ]
  },
  {
   "cell_type": "markdown",
   "id": "d8f296a9",
   "metadata": {},
   "source": [
    "5.\tHow does viewing behavior differ between churned and retained customers?"
   ]
  },
  {
   "cell_type": "code",
   "execution_count": 137,
   "id": "0270ee12",
   "metadata": {},
   "outputs": [],
   "source": [
    "churned = df[df['Churn_Flag'] == 1]['Monthly_Viewing_Hours']\n",
    "retained = df[df['Churn_Flag'] == 0]['Monthly_Viewing_Hours']"
   ]
  },
  {
   "cell_type": "code",
   "execution_count": 138,
   "id": "69de3a9c",
   "metadata": {},
   "outputs": [
    {
     "name": "stdout",
     "output_type": "stream",
     "text": [
      "39.43291139240507\n",
      "40.255323193916354\n"
     ]
    }
   ],
   "source": [
    "Average_viewing_hours=churned.mean()\n",
    "Average_viewing_hours_retained=retained.mean()\n",
    "print(Average_viewing_hours)\n",
    "print(Average_viewing_hours_retained)"
   ]
  },
  {
   "cell_type": "markdown",
   "id": "f86a7248",
   "metadata": {},
   "source": [
    "6.\tIs there a \"critical period\" after sign-up when churn risk is highest?"
   ]
  },
  {
   "cell_type": "code",
   "execution_count": 139,
   "id": "17038876",
   "metadata": {},
   "outputs": [
    {
     "name": "stdout",
     "output_type": "stream",
     "text": [
      "380.05274261603375\n",
      "393.787072243346\n"
     ]
    }
   ],
   "source": [
    "#Average tenure\n",
    "avg_churned = df[df['Churn_Flag'] == 1]['Tenure_Days'].mean()\n",
    "avg_retained = df[df['Churn_Flag'] == 0]['Tenure_Days'].mean()\n",
    "print(avg_churned)\n",
    "print(avg_retained)"
   ]
  },
  {
   "cell_type": "markdown",
   "id": "2a2a6791",
   "metadata": {},
   "source": [
    "7.\tDoes payment method affect churn probability?"
   ]
  },
  {
   "cell_type": "code",
   "execution_count": 144,
   "id": "378c524c",
   "metadata": {},
   "outputs": [
    {
     "name": "stdout",
     "output_type": "stream",
     "text": [
      "                                      Payment_Method  Churn_Flag\n",
      "0  Credit CardCredit CardCredit CardCredit CardCr...   46.428571\n",
      "1  Mobile MoneyMobile MoneyMobile MoneyMobile Mon...   47.747748\n",
      "2  PayPalPayPalPayPalPayPalPayPalPayPalPayPalPayP...   48.036254\n"
     ]
    }
   ],
   "source": [
    "# Calculate churn rate by payment method\n",
    "churn_by_payment = df.groupby('Payment_Method')['Churn_Flag'].mean().reset_index()*100\n",
    "print(churn_by_payment)\n"
   ]
  },
  {
   "cell_type": "markdown",
   "id": "a1648103",
   "metadata": {},
   "source": [
    "8.\tHow does the use of discounts at sign-up relate to long-term retention?"
   ]
  },
  {
   "cell_type": "code",
   "execution_count": null,
   "id": "86a44258",
   "metadata": {},
   "outputs": [
    {
     "name": "stdout",
     "output_type": "stream",
     "text": [
      "   Discount_Used  Churn_Flag\n",
      "0              0         493\n",
      "1              1         507\n"
     ]
    }
   ],
   "source": [
    "# Churn rate by discount usage\n",
    "churn_by_discount = df.groupby('Discount_Used')['Churn_Flag'].count().reset_index()\n",
    "print(churn_by_discount)"
   ]
  },
  {
   "cell_type": "code",
   "execution_count": 161,
   "id": "affdc39f",
   "metadata": {},
   "outputs": [
    {
     "name": "stdout",
     "output_type": "stream",
     "text": [
      "   Discount_Used  Churn_Flag\n",
      "0              0   50.304260\n",
      "1            100   44.575937\n"
     ]
    }
   ],
   "source": [
    "churn_by_discount = df.groupby('Discount_Used')['Churn_Flag'].mean().reset_index()*100\n",
    "print(churn_by_discount)"
   ]
  }
 ],
 "metadata": {
  "kernelspec": {
   "display_name": "Python 3",
   "language": "python",
   "name": "python3"
  },
  "language_info": {
   "codemirror_mode": {
    "name": "ipython",
    "version": 3
   },
   "file_extension": ".py",
   "mimetype": "text/x-python",
   "name": "python",
   "nbconvert_exporter": "python",
   "pygments_lexer": "ipython3",
   "version": "3.12.10"
  }
 },
 "nbformat": 4,
 "nbformat_minor": 5
}
